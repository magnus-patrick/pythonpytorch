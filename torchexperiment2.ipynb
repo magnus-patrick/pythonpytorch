{
 "cells": [
  {
   "cell_type": "markdown",
   "id": "718758b4",
   "metadata": {},
   "source": [
    "# PyTorch Library (Part 2)"
   ]
  },
  {
   "cell_type": "code",
   "execution_count": 51,
   "id": "ca1b545c",
   "metadata": {},
   "outputs": [],
   "source": [
    "import torch\n",
    "import torch.nn as nn\n",
    "import matplotlib.pyplot as plt"
   ]
  },
  {
   "cell_type": "markdown",
   "id": "cebffb6d",
   "metadata": {},
   "source": [
    "Suppose there is data with an independent vector $x_i$ and a dependent vector $y_i$ (i is the position of the value in the dataset).\n",
    "\n",
    "Examples:\n",
    "\n",
    "- $x_i$ is the height of the ith person; $y_i$ is the weight (predicting weight with height).\n",
    "- $x_i$ is an image of a digit; $y_i$ is the actual digit (predicting what the number is on an image).\n",
    "- $x_i$ is some medical image; $y_i$ corresponds to the pixels of a tumor.\n"
   ]
  },
  {
   "cell_type": "markdown",
   "id": "0f98e9c1",
   "metadata": {},
   "source": [
    "Define a function f that depends on parameters $a$ and makes predictions. This is what neural networks do.\n",
    "\n",
    "$$\\hat y_i = f(x_i ; a)$$\n",
    "\n",
    "The goal is to make the predictions ($\\hat y_i$) as close to the real values $y_i$ as possible by tweaking the parameters like dials to minimize what is called the **loss function** defined as $L(y, \\hat y)$. The loss function is calculated as follows:\n",
    "\n",
    "$$L(y, \\hat y) = \\sum_{i} (y-\\hat y)^2$$"
   ]
  },
  {
   "cell_type": "markdown",
   "id": "e54b7e7d",
   "metadata": {},
   "source": [
    "# Matching Numbers"
   ]
  },
  {
   "cell_type": "code",
   "execution_count": 52,
   "id": "afeb42aa",
   "metadata": {},
   "outputs": [],
   "source": [
    "x = torch.tensor([[6,2], [5,2], [1,3], [7,6]]).float()\n",
    "y = torch.tensor([1, 5, 2, 5]).float()"
   ]
  },
  {
   "cell_type": "markdown",
   "id": "94df923c",
   "metadata": {},
   "source": [
    "- $x_1 = (6, 2)$, $x_2 = (5, 2)$, etc.\n",
    "- $y_1 = 1$, $y_2 = 5$, etc."
   ]
  },
  {
   "cell_type": "code",
   "execution_count": 53,
   "id": "9340699b",
   "metadata": {},
   "outputs": [
    {
     "data": {
      "text/plain": [
       "tensor([[6., 2.],\n",
       "        [5., 2.],\n",
       "        [1., 3.],\n",
       "        [7., 6.]])"
      ]
     },
     "execution_count": 53,
     "metadata": {},
     "output_type": "execute_result"
    }
   ],
   "source": [
    "x"
   ]
  },
  {
   "cell_type": "markdown",
   "id": "e602dde3",
   "metadata": {},
   "source": [
    "We want a function f that depends on parameters $a$ that gets us from x to y.\n",
    "\n",
    "**An Idea**:\n",
    "\n",
    "1. First multiply each element in x by a $8 \\times 2$ matrix (16 parameters $a_i$)\n",
    "2. Then multiply each element in x by a $1 \\times 8$ matrix (8 parameters $a_i$)\n",
    "\n",
    "This creates the layers of the neural network. \n",
    "\n",
    "An important note is that **a matrix is initially created with random values.**"
   ]
  },
  {
   "cell_type": "code",
   "execution_count": 54,
   "id": "7b3de077",
   "metadata": {},
   "outputs": [
    {
     "data": {
      "text/plain": [
       "Linear(in_features=2, out_features=8, bias=False)"
      ]
     },
     "execution_count": 54,
     "metadata": {},
     "output_type": "execute_result"
    }
   ],
   "source": [
    "M1 = nn.Linear(2, 8, bias = False) # y = xA^T + b is the calculation done for linear tranformations. when bias = False, b, the bias vector, is 0. T transposes the matrix.\n",
    "M1 # It takes in a 2D vector and outputs an 8D vector. 2 corresponds with the number of features in independent vector x; 8 is a random number for the number of output features."
   ]
  },
  {
   "cell_type": "markdown",
   "id": "aa12abfe",
   "metadata": {},
   "source": [
    "**M** applies the same matrix multiplication to each element (or instance) of independent vector x."
   ]
  },
  {
   "cell_type": "code",
   "execution_count": 55,
   "id": "0bbfb986",
   "metadata": {},
   "outputs": [
    {
     "data": {
      "text/plain": [
       "tensor([[-5.0962, -3.7738,  1.8048,  3.1544, -2.6156, -1.9963,  0.7558, -2.7236],\n",
       "        [-4.4794, -3.3311,  1.3821,  2.8364, -2.1687, -1.6947,  0.5937, -2.0574],\n",
       "        [-2.7102, -2.1192, -0.6743,  2.1881, -0.3482, -0.5820, -0.1636,  1.2444],\n",
       "        [-8.5042, -6.4519,  0.7648,  5.9659, -2.9309, -2.6717,  0.4836, -0.8423]],\n",
       "       grad_fn=<MmBackward0>)"
      ]
     },
     "execution_count": 55,
     "metadata": {},
     "output_type": "execute_result"
    }
   ],
   "source": [
    "M1(x)"
   ]
  },
  {
   "cell_type": "markdown",
   "id": "efe4509c",
   "metadata": {},
   "source": [
    "Now, chain with a second matrix **M2**"
   ]
  },
  {
   "cell_type": "code",
   "execution_count": 56,
   "id": "c21d165d",
   "metadata": {},
   "outputs": [
    {
     "data": {
      "text/plain": [
       "Linear(in_features=8, out_features=1, bias=False)"
      ]
     },
     "execution_count": 56,
     "metadata": {},
     "output_type": "execute_result"
    }
   ],
   "source": [
    "M2 = nn.Linear(8, 1, bias = False)\n",
    "M2"
   ]
  },
  {
   "cell_type": "code",
   "execution_count": null,
   "id": "9498e823",
   "metadata": {},
   "outputs": [
    {
     "data": {
      "text/plain": [
       "tensor([-1.1546, -1.0496, -0.8920, -2.3089], grad_fn=<SqueezeBackward0>)"
      ]
     },
     "execution_count": 57,
     "metadata": {},
     "output_type": "execute_result"
    }
   ],
   "source": [
    "M2(M1(x)).squeeze() # squeeze() removes an extra dimension so that it will have the same shape as vector y."
   ]
  },
  {
   "cell_type": "code",
   "execution_count": 58,
   "id": "777b8d01",
   "metadata": {},
   "outputs": [
    {
     "data": {
      "text/plain": [
       "tensor([1., 5., 2., 5.])"
      ]
     },
     "execution_count": 58,
     "metadata": {},
     "output_type": "execute_result"
    }
   ],
   "source": [
    "y"
   ]
  },
  {
   "cell_type": "markdown",
   "id": "2812103d",
   "metadata": {},
   "source": [
    "Notice that vector y and the final tensor are not the same! This is why **training** the neural network is necessary in order for the proper predictions to be made. \n",
    "\n",
    "Adjusting the weights of matrices M1 & M2 are the way to properly training the network."
   ]
  },
  {
   "cell_type": "markdown",
   "id": "81f44958",
   "metadata": {},
   "source": [
    "# Neural Network Class"
   ]
  },
  {
   "cell_type": "markdown",
   "id": "4f48902b",
   "metadata": {},
   "source": [
    "The weights of M1 & M2 are constitute the weights $a$ of the network. In order to optimize for those, we must first make the neural network $f$: "
   ]
  },
  {
   "cell_type": "code",
   "execution_count": 59,
   "id": "1afbe30e",
   "metadata": {},
   "outputs": [],
   "source": [
    "class MyFirstNetwork(nn.Module): # nn.Module is a super class which our class will inherit its attributes and methods from.\n",
    "    def __init__(self):\n",
    "        super().__init__() # This is the line that makes our class inherit from the nn.Module class.\n",
    "        self.Mat1 = nn.Linear(2, 8, bias = False)\n",
    "        self.Mat2 = nn.Linear(8, 1, bias = False)\n",
    "    def forward(self, x): # Define a forward method for forward propagation.\n",
    "        x = self.Mat1(x) # Applies the linear transformation of Mat1.\n",
    "        x = self.Mat2(x) # Applies the linear transformation of Mat2 after Mat1.\n",
    "        return x.squeeze()"
   ]
  },
  {
   "cell_type": "markdown",
   "id": "68c1fc9d",
   "metadata": {},
   "source": [
    "The reason that the class should inherit from nn.Module is so that the network's parameters could be conveniently stored. Doing this will prove useful when adjusting them."
   ]
  },
  {
   "cell_type": "code",
   "execution_count": 60,
   "id": "c0a1737d",
   "metadata": {},
   "outputs": [],
   "source": [
    "f = MyFirstNetwork()"
   ]
  },
  {
   "cell_type": "code",
   "execution_count": 61,
   "id": "bbd5ccf6",
   "metadata": {},
   "outputs": [
    {
     "name": "stdout",
     "output_type": "stream",
     "text": [
      "Parameter containing:\n",
      "tensor([[ 0.6821, -0.3383],\n",
      "        [ 0.0382,  0.1186],\n",
      "        [ 0.0179,  0.6787],\n",
      "        [-0.0360,  0.0727],\n",
      "        [ 0.7009,  0.6191],\n",
      "        [-0.5386, -0.3891],\n",
      "        [-0.2754, -0.2819],\n",
      "        [ 0.5931, -0.3423]], requires_grad=True)\n",
      "Parameter containing:\n",
      "tensor([[-0.3128, -0.3204,  0.2173, -0.0377,  0.1426, -0.0316, -0.3033,  0.1575]],\n",
      "       requires_grad=True)\n"
     ]
    }
   ],
   "source": [
    "for parameter in f.parameters():\n",
    "    print(parameter) # Shows the parameters of each matrix in neural network f."
   ]
  },
  {
   "cell_type": "code",
   "execution_count": 62,
   "id": "fa0e979f",
   "metadata": {},
   "outputs": [
    {
     "data": {
      "text/plain": [
       "tensor([1.1310, 1.0574, 1.1078, 2.5834], grad_fn=<SqueezeBackward0>)"
      ]
     },
     "execution_count": 62,
     "metadata": {},
     "output_type": "execute_result"
    }
   ],
   "source": [
    "yhat = f(x)\n",
    "yhat"
   ]
  },
  {
   "cell_type": "markdown",
   "id": "519c3bba",
   "metadata": {},
   "source": [
    "## Adjusting $a$ So That $\\hat y$ & $y$ Are Similar"
   ]
  },
  {
   "cell_type": "markdown",
   "id": "b3470790",
   "metadata": {},
   "source": [
    "Now, we use the **mean squared error loss function** (MSE) to calculate loss; how similar $\\hat y$ & $y$ are. Recall that the loss function is defined as\n",
    "\n",
    "$$L(y, \\hat y) = \\sum_{i} (y-\\hat y)^2$$"
   ]
  },
  {
   "cell_type": "code",
   "execution_count": 63,
   "id": "5ac849f5",
   "metadata": {},
   "outputs": [
    {
     "data": {
      "text/plain": [
       "tensor(5.5493, grad_fn=<MseLossBackward0>)"
      ]
     },
     "execution_count": 63,
     "metadata": {},
     "output_type": "execute_result"
    }
   ],
   "source": [
    "L = nn.MSELoss() # Equivalent to the formula above.\n",
    "L(y, yhat)"
   ]
  },
  {
   "cell_type": "markdown",
   "id": "55abfb4c",
   "metadata": {},
   "source": [
    "Note that $L$ depends on $\\hat y$, and $\\hat y$ depends on $a$, so $L$ = $L(a)$. The main idea behind machine learning is to find out the how loss changes when $a$ changes or:\n",
    "\n",
    "$$\\frac{\\partial L}{\\partial a_i}$$\n",
    "\n",
    "for each parameter $a_i$ of the network. Then, we adjust each parameter as so:\n",
    "\n",
    "$$a_i \\rightarrow a_i - \\ell \\frac{\\partial L}{\\partial a_i}$$\n",
    "\n",
    "where $\\ell$ is the learning rate."
   ]
  },
  {
   "cell_type": "markdown",
   "id": "d069ca28",
   "metadata": {},
   "source": [
    "If I were you, watch 3Blue1Brown's in-depth explanation about gradient descent on his YouTube channel's Deep Learning playlist. But to summarize his video, the goal is to repeatedly adjust the parameters of the network until a local minimum of the loss function is found so that our predictions will have less error. This is what gradient descent is for.\n",
    "\n",
    "- Each pass of the full dataset $x$ is called an **epoch**. Each iteration corresponds to an epoch since in this case, we are evaluating $\\partial L/\\partial a_i$ on the entire dataset $x$ each time we iterate $a_i \\rightarrow a_i - \\ell \\partial L/\\partial a_i$"
   ]
  },
  {
   "cell_type": "markdown",
   "id": "8872813b",
   "metadata": {},
   "source": [
    "The SGD (or stochastic gradient descent) takes in all parameters $a$ along with the learning rate $\\ell$."
   ]
  },
  {
   "cell_type": "code",
   "execution_count": 64,
   "id": "8cf5ed7f",
   "metadata": {},
   "outputs": [],
   "source": [
    "opt = torch.optim.SGD(f.parameters(), lr = .001)"
   ]
  },
  {
   "cell_type": "markdown",
   "id": "75d26934",
   "metadata": {},
   "source": [
    "Adjust the parameters constantly."
   ]
  },
  {
   "cell_type": "code",
   "execution_count": null,
   "id": "77a1df24",
   "metadata": {},
   "outputs": [],
   "source": [
    "losses = []\n",
    "\n",
    "for _ in range(50): # Go through 50 epochs.\n",
    "    opt.zero_grad() # Resets the gradient to 0 after each epoch so that the loss can decrease.\n",
    "    loss_value = L(f(x), y) # Calculate the loss from predicted and actual y-values.\n",
    "    loss_value.backward() # Compute the gradient of the loss function in backpropagation.\n",
    "    opt.step() # Updates parameters using the gradient computed above.\n",
    "    losses.append(loss_value.item()) "
   ]
  },
  {
   "cell_type": "code",
   "execution_count": 66,
   "id": "a5217a2c",
   "metadata": {},
   "outputs": [
    {
     "data": {
      "text/plain": [
       "Text(0, 0.5, 'Loss $L(y, \\\\hat y; a)$')"
      ]
     },
     "execution_count": 66,
     "metadata": {},
     "output_type": "execute_result"
    },
    {
     "data": {
      "image/png": "[encoded data removed]",
      "text/plain": [
       "<Figure size 640x480 with 1 Axes>"
      ]
     },
     "metadata": {},
     "output_type": "display_data"
    }
   ],
   "source": [
    "plt.plot(losses)\n",
    "plt.xlabel('Epochs')\n",
    "plt.ylabel(r'Loss $L(y, \\hat y; a)$')"
   ]
  },
  {
   "cell_type": "code",
   "execution_count": 67,
   "id": "9ec445f6",
   "metadata": {},
   "outputs": [
    {
     "data": {
      "text/plain": [
       "tensor([1., 5., 2., 5.])"
      ]
     },
     "execution_count": 67,
     "metadata": {},
     "output_type": "execute_result"
    }
   ],
   "source": [
    "y"
   ]
  },
  {
   "cell_type": "code",
   "execution_count": 68,
   "id": "af15b4ed",
   "metadata": {},
   "outputs": [
    {
     "data": {
      "text/plain": [
       "tensor([2.8514, 2.5481, 1.8505, 5.2177], grad_fn=<SqueezeBackward0>)"
      ]
     },
     "execution_count": 68,
     "metadata": {},
     "output_type": "execute_result"
    }
   ],
   "source": [
    "f(x)"
   ]
  }
 ],
 "metadata": {
  "kernelspec": {
   "display_name": "Python 3",
   "language": "python",
   "name": "python3"
  },
  "language_info": {
   "codemirror_mode": {
    "name": "ipython",
    "version": 3
   },
   "file_extension": ".py",
   "mimetype": "text/x-python",
   "name": "python",
   "nbconvert_exporter": "python",
   "pygments_lexer": "ipython3",
   "version": "3.13.3"
  }
 },
 "nbformat": 4,
 "nbformat_minor": 5
}
