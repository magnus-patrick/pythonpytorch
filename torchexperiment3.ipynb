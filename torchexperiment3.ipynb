{
 "cells": [
  {
   "cell_type": "markdown",
   "id": "0d5daab3",
   "metadata": {},
   "source": [
    "# PyTorch Library (Part 3)"
   ]
  },
  {
   "cell_type": "markdown",
   "id": "7d134f03",
   "metadata": {},
   "source": [
    "# Machine Learning Summary"
   ]
  },
  {
   "cell_type": "code",
   "execution_count": 44,
   "id": "2f7e16cf",
   "metadata": {},
   "outputs": [],
   "source": [
    "import torch\n",
    "import torch.nn as nn\n",
    "from torch.optim import SGD\n",
    "import numpy as np\n",
    "import matplotlib.pyplot as plt"
   ]
  },
  {
   "cell_type": "markdown",
   "id": "8d11d035",
   "metadata": {},
   "source": [
    "Suppose there is data with an independent vector $x_i$ and a dependent vector $y_i$ ($i$ is the position of the value in the dataset).\n",
    "\n",
    "Examples:\n",
    "\n",
    "- $x_i$ is the height of the ith person; $y_i$ is the weight (predicting weight with height).\n",
    "- $x_i$ is an image of a digit; $y_i$ is the actual digit (predicting what the number is on an image).\n",
    "- $x_i$ is some medical image; $y_i$ corresponds to the pixels of a tumor.\n",
    "\n",
    "Define a function f that depends on parameters $a$ and makes predictions. This is what neural networks do.\n",
    "\n",
    "$$\\hat y_i = f(x_i ; a)$$\n",
    "\n",
    "The goal is to make the predictions ($\\hat y_i$) as close to the real values $y_i$ as possible by tweaking the parameters like dials to minimize what is called the **loss function** defined as $L(y, \\hat y)$. The loss function is calculated as follows:\n",
    "\n",
    "$$L(y, \\hat y) = \\sum_{i} (y-\\hat y)^2$$"
   ]
  },
  {
   "cell_type": "markdown",
   "id": "c87ff95c",
   "metadata": {},
   "source": [
    "# Last Video Notes"
   ]
  },
  {
   "cell_type": "markdown",
   "id": "e48a1ef0",
   "metadata": {},
   "source": [
    "Given 4 data points ($x_i$, $y_i$) and wanted to find a function f such that $f(x_i) = y_i$. Since each $x_i$ was a vector of length 2, we chose the function\n",
    "\n",
    "$$f(x) = A_2 A_1 x$$\n",
    "\n",
    "Where $A_1$ is a $8 \\times 2$ matrix and $A_2$ is a $1 \\times 8$ matrix. That means there were 16 + 8 parameters. This function did not do very well at making $f(x_i) = y_i$ due to there only being 24 parameters which isn't much."
   ]
  },
  {
   "cell_type": "code",
   "execution_count": 45,
   "id": "a13a71b7",
   "metadata": {},
   "outputs": [],
   "source": [
    "x = torch.tensor([[6,2], [5,2], [1,3], [7,6]]).float()\n",
    "y = torch.tensor([1, 5, 2, 5]).float()\n",
    "\n",
    "class MyFirstNetwork(nn.Module): # nn.Module is a super class which our class will inherit its attributes and methods from.\n",
    "    def __init__(self):\n",
    "        super().__init__() # This is the line that makes our class inherit from the nn.Module class.\n",
    "        self.Mat1 = nn.Linear(2, 8, bias = False)\n",
    "        self.Mat2 = nn.Linear(8, 1, bias = False)\n",
    "    def forward(self, x): # Define a forward method for forward propagation.\n",
    "        x = self.Mat1(x) # Applies the linear transformation of Mat1.\n",
    "        x = self.Mat2(x) # Applies the linear transformation of Mat2 after Mat1.\n",
    "        return x.squeeze()\n",
    "\n",
    "f = MyFirstNetwork()\n",
    "opt = SGD(f.parameters(), lr = 0.001)\n",
    "L = nn.MSELoss()\n",
    "\n",
    "losses = []\n",
    "\n",
    "for _ in range(50): # Go through 50 epochs.\n",
    "    opt.zero_grad() # Resets the gradient to 0 after each epoch so that the loss can decrease.\n",
    "    loss_value = L(f(x), y) # Calculate the loss from predicted and actual y-values.\n",
    "    loss_value.backward() # Compute the gradient of the loss function in backpropagation.\n",
    "    opt.step() # Updates parameters using the gradient computed above.\n",
    "    losses.append(loss_value.item())"
   ]
  },
  {
   "cell_type": "code",
   "execution_count": 46,
   "id": "5360a6ca",
   "metadata": {},
   "outputs": [
    {
     "data": {
      "text/plain": [
       "tensor([1., 5., 2., 5.])"
      ]
     },
     "execution_count": 46,
     "metadata": {},
     "output_type": "execute_result"
    }
   ],
   "source": [
    "y"
   ]
  },
  {
   "cell_type": "code",
   "execution_count": 47,
   "id": "05940b55",
   "metadata": {},
   "outputs": [
    {
     "data": {
      "text/plain": [
       "tensor([[6., 2.],\n",
       "        [5., 2.],\n",
       "        [1., 3.],\n",
       "        [7., 6.]])"
      ]
     },
     "execution_count": 47,
     "metadata": {},
     "output_type": "execute_result"
    }
   ],
   "source": [
    "x"
   ]
  },
  {
   "cell_type": "markdown",
   "id": "cd7560e0",
   "metadata": {},
   "source": [
    "# This Video Notes"
   ]
  },
  {
   "cell_type": "markdown",
   "id": "990869cb",
   "metadata": {},
   "source": [
    "Although there were 24 parameters in the two matrices, there were technically only **two** independent parameters. This is because\n",
    "\n",
    "$$A_1 A_2 = B$$\n",
    "\n",
    "where $B$ is a $2 \\times 1$ matrix. So, our function really was $Bx$"
   ]
  },
  {
   "cell_type": "markdown",
   "id": "7994411d",
   "metadata": {},
   "source": [
    "# How to Have More Advanced Models with the Simplicity of Linear Algebra"
   ]
  },
  {
   "cell_type": "markdown",
   "id": "4726c2a8",
   "metadata": {},
   "source": [
    "**The Crux of Machine Learning**: This lies in **activation functions** which add *slight* non-linearities to a sequence of matrix transformations. Instead of the transformation\n",
    "\n",
    "**Old Model**: $$f(x) = A_2 A_1 x$$\n",
    "\n",
    "We use \n",
    "\n",
    "**New Model**: $$f_2(x) = A_2 R(A_1 x)$$\n",
    "\n",
    "where $R$ is an element-wise operator defined by\n",
    "\n",
    "$$R(x) = \\begin{cases} x & x > 0\\\\ 0 & x \\le 0 \\end{cases}$$\n",
    "\n",
    "So, $R$ is the identity function if $x > 0$ but sets values equal to 0 if $x$ is less than zero. This is close to being a linear operator, but it is not."
   ]
  },
  {
   "cell_type": "code",
   "execution_count": 48,
   "id": "f878bbcb",
   "metadata": {},
   "outputs": [
    {
     "data": {
      "text/plain": [
       "tensor([[ 1,  4,  7, -8,  3,  3, -7],\n",
       "        [ 6, -4,  5, -9,  4, -3,  2]])"
      ]
     },
     "execution_count": 48,
     "metadata": {},
     "output_type": "execute_result"
    }
   ],
   "source": [
    "x = torch.tensor([[1,4,7,-8,3,3,-7],[6,-4,5,-9,4,-3,2]])\n",
    "x"
   ]
  },
  {
   "cell_type": "code",
   "execution_count": 49,
   "id": "3bda391d",
   "metadata": {},
   "outputs": [
    {
     "data": {
      "text/plain": [
       "tensor([[1, 4, 7, 0, 3, 3, 0],\n",
       "        [6, 0, 5, 0, 4, 0, 2]])"
      ]
     },
     "execution_count": 49,
     "metadata": {},
     "output_type": "execute_result"
    }
   ],
   "source": [
    "R = nn.ReLU() # ReLU activation function.\n",
    "R(x)"
   ]
  },
  {
   "cell_type": "code",
   "execution_count": 50,
   "id": "eb81396e",
   "metadata": {},
   "outputs": [
    {
     "data": {
      "image/png": "[encoded data removed]",
      "text/plain": [
       "<Figure size 640x480 with 1 Axes>"
      ]
     },
     "metadata": {},
     "output_type": "display_data"
    }
   ],
   "source": [
    "x = torch.linspace(-3, 3, 100)\n",
    "y = R(x)\n",
    "\n",
    "plt.plot(x.numpy(), y.numpy())\n",
    "plt.grid()"
   ]
  },
  {
   "cell_type": "markdown",
   "id": "a2c13f28",
   "metadata": {},
   "source": [
    "How much better does the model learn with this activation function?"
   ]
  },
  {
   "cell_type": "code",
   "execution_count": 51,
   "id": "e588342c",
   "metadata": {},
   "outputs": [],
   "source": [
    "x = torch.tensor([[6,2], [5,2], [1,3], [7,6]]).float()\n",
    "y = torch.tensor([1, 5, 2, 5]).float()\n",
    "\n",
    "class MySecondNetwork(nn.Module): # nn.Module is a super class which our class will inherit its attributes and methods from.\n",
    "    def __init__(self):\n",
    "        super().__init__() # This is the line that makes our class inherit from the nn.Module class.\n",
    "        self.Mat1 = nn.Linear(2, 8, bias = False)\n",
    "        self.Mat2 = nn.Linear(8, 1, bias = False)\n",
    "        self.R = nn.ReLU()\n",
    "    def forward(self, x): # Define a forward method for forward propagation.\n",
    "        x = self.R(self.Mat1(x)) # Applies the linear transformation of Mat1.\n",
    "        x = self.Mat2(x) # Applies the linear transformation of Mat2 after Mat1.\n",
    "        return x.squeeze()"
   ]
  },
  {
   "cell_type": "markdown",
   "id": "3c168158",
   "metadata": {},
   "source": [
    "**Define a function** to train model as this will be done many times. "
   ]
  },
  {
   "cell_type": "code",
   "execution_count": 52,
   "id": "40a378bc",
   "metadata": {},
   "outputs": [],
   "source": [
    "def training(x, y, f, n_epochs = 50):\n",
    "    opt = SGD(f.parameters(), lr = 0.001)\n",
    "    L = nn.MSELoss()\n",
    "\n",
    "    # training\n",
    "    losses = []\n",
    "    for _ in range(n_epochs): # Go through 50 epochs.\n",
    "        opt.zero_grad() # Resets the gradient to 0 after each epoch so that the loss can decrease.\n",
    "        loss_value = L(f(x), y) # Calculate the loss from predicted and actual y-values.\n",
    "        loss_value.backward() # Compute the gradient of the loss function in backpropagation.\n",
    "        opt.step() # Updates parameters using the gradient computed above.\n",
    "        losses.append(loss_value.item())\n",
    "    return f, losses"
   ]
  },
  {
   "cell_type": "code",
   "execution_count": 53,
   "id": "6ce5c288",
   "metadata": {},
   "outputs": [],
   "source": [
    "x = torch.tensor([[6,2], [5,2], [1,3], [7,6]]).float()\n",
    "y = torch.tensor([1, 5, 2, 5]).float()\n",
    "f2 = MySecondNetwork()\n",
    "\n",
    "# Training models\n",
    "f2, losses2 = training(x, y, f2, n_epochs = 1000)"
   ]
  },
  {
   "cell_type": "markdown",
   "id": "ade56e57",
   "metadata": {},
   "source": [
    "Let's look at the predictions."
   ]
  },
  {
   "cell_type": "code",
   "execution_count": 54,
   "id": "ebea42b0",
   "metadata": {},
   "outputs": [
    {
     "data": {
      "text/plain": [
       "tensor([1., 5., 2., 5.])"
      ]
     },
     "execution_count": 54,
     "metadata": {},
     "output_type": "execute_result"
    }
   ],
   "source": [
    "y"
   ]
  },
  {
   "cell_type": "code",
   "execution_count": 55,
   "id": "0c1e2513",
   "metadata": {},
   "outputs": [
    {
     "data": {
      "text/plain": [
       "tensor([3.0456, 2.6788, 1.6338, 5.1018], grad_fn=<SqueezeBackward0>)"
      ]
     },
     "execution_count": 55,
     "metadata": {},
     "output_type": "execute_result"
    }
   ],
   "source": [
    "f(x)"
   ]
  },
  {
   "cell_type": "code",
   "execution_count": 56,
   "id": "b5bf621a",
   "metadata": {},
   "outputs": [
    {
     "data": {
      "text/plain": [
       "tensor([2.8451, 2.5382, 2.0960, 5.1596], grad_fn=<SqueezeBackward0>)"
      ]
     },
     "execution_count": 56,
     "metadata": {},
     "output_type": "execute_result"
    }
   ],
   "source": [
    "f2(x)"
   ]
  },
  {
   "cell_type": "markdown",
   "id": "2aa94926",
   "metadata": {},
   "source": [
    "Slightly better. Due to the slight non-linearity from the activation function, the matrices can be much larger. Let's make our matrices $80 \\times 2$ and $1 \\times 80$. This **only** works due to our non-linear function $R(x)$.\n",
    "\n",
    "- Without $R(x)$, we would just have $A_1 A_2 = B$ and so $f(x) = Bx$ where $B$ is still a $1 \\times 2$ matrix even though $A_2$ & $A_1$ are larger matrices. $R(x)$ makes all 240 parameters independent from each other to an extent."
   ]
  },
  {
   "cell_type": "markdown",
   "id": "7bab0165",
   "metadata": {},
   "source": [
    "Old Model: $f_2(x)$\n",
    "= $A_2 R(A_1x)$ where $A_2$ is $1 \\times 8$ and $A_1$ is $8 \\times 2$\n",
    "\n",
    "New Model: $f_3(x)$\n",
    "= $A_2 R(A_1x)$ where $A_2$ is $1 \\times 80$ and $A_1$ is $80 \\times 2$\n"
   ]
  },
  {
   "cell_type": "code",
   "execution_count": 57,
   "id": "a13274a3",
   "metadata": {},
   "outputs": [],
   "source": [
    "x = torch.tensor([[6,2], [5,2], [1,3], [7,6]]).float()\n",
    "y = torch.tensor([1, 5, 2, 5]).float()\n",
    "\n",
    "class MyThirdNetwork(nn.Module):\n",
    "    def __init__(self):\n",
    "        super().__init__()\n",
    "        self.Mat1 = nn.Linear(2, 80, bias = False)\n",
    "        self.Mat2 = nn.Linear(80, 1, bias = False)\n",
    "        self.R = nn.ReLU()\n",
    "    def forward(self, x):\n",
    "        x = self.R(self.Mat1(x))\n",
    "        x = self.Mat2(x)\n",
    "        return x.squeeze()\n",
    "    \n",
    "# Training the third model\n",
    "f3 = MyThirdNetwork()\n",
    "f3, losses3 = training(x, y, f3, n_epochs = 1000)"
   ]
  },
  {
   "cell_type": "code",
   "execution_count": 58,
   "id": "77d36307",
   "metadata": {},
   "outputs": [
    {
     "data": {
      "text/plain": [
       "tensor([1., 5., 2., 5.])"
      ]
     },
     "execution_count": 58,
     "metadata": {},
     "output_type": "execute_result"
    }
   ],
   "source": [
    "y"
   ]
  },
  {
   "cell_type": "code",
   "execution_count": 59,
   "id": "22f6db7d",
   "metadata": {},
   "outputs": [
    {
     "data": {
      "text/plain": [
       "tensor([2.8451, 2.5382, 2.0960, 5.1596], grad_fn=<SqueezeBackward0>)"
      ]
     },
     "execution_count": 59,
     "metadata": {},
     "output_type": "execute_result"
    }
   ],
   "source": [
    "f2(x)"
   ]
  },
  {
   "cell_type": "code",
   "execution_count": 60,
   "id": "f9076905",
   "metadata": {},
   "outputs": [
    {
     "data": {
      "text/plain": [
       "tensor([2.7927, 2.5214, 1.9654, 5.2417], grad_fn=<SqueezeBackward0>)"
      ]
     },
     "execution_count": 60,
     "metadata": {},
     "output_type": "execute_result"
    }
   ],
   "source": [
    "f3(x)"
   ]
  },
  {
   "cell_type": "markdown",
   "id": "34e167bc",
   "metadata": {},
   "source": [
    "Closer but still not exact. Other parameters can be introduced to make better models.\n",
    "\n",
    "$$f(x) = A_2 R(A_1 x + b_1) + b_2$$\n",
    "\n",
    "where $b_1$ and $b_2$ are vectors added to each linear transformation.\n",
    "\n",
    "Old Model: $f_3(x) = A_2 R(A_1x)$ where $A_2$ is $1 \\times 80$ and $A_1$ is $80 \\times 2$\n",
    "\n",
    "New Model: $f_4(x) = A_2 R(A_1x + b_1) + b_2$ where $A_2$ is $1 \\times 80$ and $A_1$ is $80 \\times 2$"
   ]
  },
  {
   "cell_type": "code",
   "execution_count": 61,
   "id": "1dd3bfb9",
   "metadata": {},
   "outputs": [],
   "source": [
    "x = torch.tensor([[6,2], [5,2], [1,3], [7,6]]).float()\n",
    "y = torch.tensor([1, 5, 2, 5]).float()\n",
    "\n",
    "class MyFourthNetwork(nn.Module):\n",
    "    def __init__(self):\n",
    "        super().__init__()\n",
    "        self.Mat1 = nn.Linear(2, 80)\n",
    "        self.Mat2 = nn.Linear(80, 1)\n",
    "        self.R = nn.ReLU()\n",
    "    def forward(self, x):\n",
    "        x = self.R(self.Mat1(x))\n",
    "        x = self.Mat2(x)\n",
    "        return x.squeeze()\n",
    "    \n",
    "# Training the fourth model\n",
    "f4 = MyFourthNetwork()\n",
    "f4, losses4 = training(x, y, f4, n_epochs = 1000)"
   ]
  },
  {
   "cell_type": "code",
   "execution_count": 62,
   "id": "ac03769e",
   "metadata": {},
   "outputs": [
    {
     "data": {
      "text/plain": [
       "tensor([2.7003, 2.8283, 2.1288, 5.0823], grad_fn=<SqueezeBackward0>)"
      ]
     },
     "execution_count": 62,
     "metadata": {},
     "output_type": "execute_result"
    }
   ],
   "source": [
    "f4(x)"
   ]
  },
  {
   "cell_type": "markdown",
   "id": "da789420",
   "metadata": {},
   "source": [
    "Better, yet so far. Adding in another matrix might help.\n",
    "\n",
    "Old Model: $f_4(x) = A_2 R(A_1x + b_1) + b_2$ where $A_2$ is $1 \\times 80$ and $A_1$ is $80 \\times 2$\n",
    "\n",
    "New Model: $f_5(x) = A_3 R(A_2 R(A_1x + b_1) + b_2)$ where $A_3$ is $1 \\times 80$ $A_2$ is $80 \\times 80$ and $A_1$ is $80 \\times 2$\n"
   ]
  },
  {
   "cell_type": "code",
   "execution_count": 64,
   "id": "6145c3b7",
   "metadata": {},
   "outputs": [],
   "source": [
    "x = torch.tensor([[6,2], [5,2], [1,3], [7,6]]).float()\n",
    "y = torch.tensor([1, 5, 2, 5]).float()\n",
    "\n",
    "class MyFifthNetwork(nn.Module):\n",
    "    def __init__(self):\n",
    "        super().__init__()\n",
    "        self.Mat1 = nn.Linear(2, 80)\n",
    "        self.Mat2 = nn.Linear(80, 80)\n",
    "        self.Mat3 = nn.Linear(80, 1)\n",
    "        self.R = nn.ReLU()\n",
    "    def forward(self, x):\n",
    "        x = self.R(self.Mat1(x))\n",
    "        x = self.R(self.Mat2(x))\n",
    "        x = self.Mat3(x)\n",
    "        return x.squeeze()\n",
    "    \n",
    "# Training the fifth model\n",
    "f5 = MyFifthNetwork()\n",
    "f5, losses5 = training(x, y, f5, n_epochs = 1000)"
   ]
  },
  {
   "cell_type": "code",
   "execution_count": 65,
   "id": "7bb2bea7",
   "metadata": {},
   "outputs": [
    {
     "data": {
      "text/plain": [
       "tensor([2.6101, 2.9425, 2.1192, 5.0993], grad_fn=<SqueezeBackward0>)"
      ]
     },
     "execution_count": 65,
     "metadata": {},
     "output_type": "execute_result"
    }
   ],
   "source": [
    "f5(x)"
   ]
  },
  {
   "cell_type": "code",
   "execution_count": 66,
   "id": "fb577f40",
   "metadata": {},
   "outputs": [
    {
     "data": {
      "text/plain": [
       "(2712.5032787323, 2409.366766691208, 2138.61077606678, 2070.6738793849945)"
      ]
     },
     "execution_count": 66,
     "metadata": {},
     "output_type": "execute_result"
    }
   ],
   "source": [
    "sum(losses2), sum(losses3), sum(losses4), sum(losses5)"
   ]
  },
  {
   "cell_type": "markdown",
   "id": "1e7b2557",
   "metadata": {},
   "source": [
    "With more epochs:"
   ]
  },
  {
   "cell_type": "code",
   "execution_count": null,
   "id": "b146c199",
   "metadata": {},
   "outputs": [
    {
     "data": {
      "text/plain": [
       "tensor([1.0000, 5.0000, 2.0000, 5.0000], grad_fn=<SqueezeBackward0>)"
      ]
     },
     "execution_count": 67,
     "metadata": {},
     "output_type": "execute_result"
    }
   ],
   "source": [
    "f5, losses5 = training(x, y, f5, n_epochs = 10000)\n",
    "f5(x) # Output tensor matches the actual tensor y."
   ]
  },
  {
   "cell_type": "code",
   "execution_count": 69,
   "id": "b97af60f",
   "metadata": {},
   "outputs": [
    {
     "data": {
      "text/plain": [
       "1381.9488226632554"
      ]
     },
     "execution_count": 69,
     "metadata": {},
     "output_type": "execute_result"
    }
   ],
   "source": [
    "sum(losses5)"
   ]
  },
  {
   "cell_type": "markdown",
   "id": "d6c249ac",
   "metadata": {},
   "source": [
    "To summarize, we improve the neural network model by adding non-linearity with activation functions which in turn allow us to have larger matrices for more accuracy. Biases were also introduced."
   ]
  },
  {
   "cell_type": "markdown",
   "id": "16f557ef",
   "metadata": {},
   "source": [
    "# The \"Sequential\" Network"
   ]
  },
  {
   "cell_type": "markdown",
   "id": "27bd189b",
   "metadata": {},
   "source": [
    "A general \"sequential\" neural network can be expressed as:\n",
    "\n",
    "$$f(x) = \\underset{i=1}{\\overset{n}{\\Huge{\\kappa}}} R_i(A_ix+b_i)$$\n",
    "\n",
    "where $\\underset{i=1}{\\overset{n}{\\Huge{\\kappa}}} f_i(x) = f_n \\circ f_{n-1}... \\circ f_1(x)$ and the $A_i$ are matrices $b_i$ are bias vectors. Composite functions are used here. Typically, the $R_i$ are the same for all vectors (typically ReLU) **except** for the last layer where it just the identity function.\n",
    "\n",
    "- **Note**: In convolutional neural networks (CNNs) or other architectures, the $A_i$ 's become sparse matrices, meaning that most of the parameters are equal to zero."
   ]
  }
 ],
 "metadata": {
  "kernelspec": {
   "display_name": "Python 3",
   "language": "python",
   "name": "python3"
  },
  "language_info": {
   "codemirror_mode": {
    "name": "ipython",
    "version": 3
   },
   "file_extension": ".py",
   "mimetype": "text/x-python",
   "name": "python",
   "nbconvert_exporter": "python",
   "pygments_lexer": "ipython3",
   "version": "3.13.3"
  }
 },
 "nbformat": 4,
 "nbformat_minor": 5
}
